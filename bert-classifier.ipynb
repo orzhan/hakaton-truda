{
 "cells": [
  {
   "cell_type": "code",
   "execution_count": 2,
   "metadata": {},
   "outputs": [],
   "source": [
    "import numpy as np\n",
    "import pandas as pd\n",
    "import csv\n",
    "\n",
    "n = 0\n",
    "data = []\n",
    "with open('data/vacs_train.csv', newline='', encoding='utf-8') as csvfile:\n",
    "    reader = csv.DictReader(csvfile, delimiter=';')\n",
    "    for row in reader:\n",
    "        #print(row['name'], row['description'])\n",
    "        #print(row)\n",
    "        n += 1\n",
    "        data.append(row)\n",
    "df = pd.DataFrame(data)\n",
    "for c in ['company.id','salary_from']:\n",
    "    df[c] = pd.to_numeric(df[c])\n",
    "df_filtered = df[(df['salary_from'] >= 20000) & (df['salary_from'] <= 100000)]\n"
   ]
  },
  {
   "cell_type": "code",
   "execution_count": 3,
   "metadata": {},
   "outputs": [],
   "source": [
    "#df_filtered = df_filtered.iloc[:10000]\n",
    "\n",
    "df_filtered.reset_index(drop=True, inplace=True)\n",
    "\n",
    "data = pd.DataFrame()\n",
    "data['text'] = df_filtered['name'] + '. ' + df_filtered['description'] + '. Ключевые навыки: ' + df_filtered['key_skills'] + '. Специализации: ' + df_filtered['specializations.names'] + '. Тип занятости: ' + df_filtered['employment.name'] + '. График: ' + df_filtered['schedule.name'] + '. Требуемый опыт работы: ' + df_filtered['experience.name'] + '. Компания ' + df_filtered['company']\n",
    "\n",
    "y = np.zeros(df_filtered.index.max() + 1)\n",
    "bins = np.array([0, 25000.0, 30000.0, 35000.0, 40000.0, 45000.0, 60000.0, 400000.0])\n",
    "for i, val in df_filtered['salary_from'].iteritems():\n",
    "    j = 0\n",
    "    for k in range(0, len(bins)):\n",
    "        if val < bins[k]:\n",
    "            j = k\n",
    "            break\n",
    "    y[i] = (k - 1)\n",
    "y = pd.Series(y)\n",
    "data['label'] = y"
   ]
  },
  {
   "cell_type": "code",
   "execution_count": 5,
   "metadata": {},
   "outputs": [],
   "source": [
    "from sklearn.model_selection import train_test_split\n",
    "\n",
    "train_df,  eval_df = train_test_split(data, test_size=0.3, random_state=42)"
   ]
  },
  {
   "cell_type": "code",
   "execution_count": 6,
   "metadata": {},
   "outputs": [
    {
     "data": {
      "text/plain": [
       "5.0    5099\n",
       "2.0    5065\n",
       "4.0    4259\n",
       "1.0    4227\n",
       "6.0    4013\n",
       "3.0    3349\n",
       "0.0    2459\n",
       "Name: label, dtype: int64"
      ]
     },
     "execution_count": 6,
     "metadata": {},
     "output_type": "execute_result"
    }
   ],
   "source": [
    "eval_df['label'].value_counts()"
   ]
  },
  {
   "cell_type": "code",
   "execution_count": null,
   "metadata": {},
   "outputs": [],
   "source": [
    "from simpletransformers.classification import ClassificationModel\n",
    "\n",
    "import logging\n",
    "\n",
    "\n",
    "logging.basicConfig(level=logging.INFO)\n",
    "transformers_logger = logging.getLogger(\"transformers\")\n",
    "transformers_logger.setLevel(logging.WARNING)\n",
    "\n",
    "# Create a ClassificationModel\n",
    "model = ClassificationModel('bert', 'DeepPavlov/rubert-base-cased', num_labels=7, args={'reprocess_input_data': True, 'overwrite_output_dir': True, 'train_batch_size':16, 'eval_batch_size':16, 'epochs': 1})\n",
    "\n",
    "# Train the model\n",
    "model.train_model(train_df)\n",
    "\n",
    "# Evaluate the model\n",
    "result, model_outputs, wrong_predictions = model.eval_model(eval_df, acc=sklearn.metrics.accuracy_score)\n",
    "\n",
    "print(result)\n",
    "#print(model_outputs)\n",
    "\n"
   ]
  },
  {
   "cell_type": "code",
   "execution_count": null,
   "metadata": {},
   "outputs": [],
   "source": []
  },
  {
   "cell_type": "code",
   "execution_count": null,
   "metadata": {},
   "outputs": [],
   "source": []
  },
  {
   "cell_type": "code",
   "execution_count": null,
   "metadata": {},
   "outputs": [],
   "source": []
  },
  {
   "cell_type": "code",
   "execution_count": null,
   "metadata": {},
   "outputs": [],
   "source": []
  }
 ],
 "metadata": {
  "kernelspec": {
   "display_name": "Python 3",
   "language": "python",
   "name": "python3"
  },
  "language_info": {
   "codemirror_mode": {
    "name": "ipython",
    "version": 3
   },
   "file_extension": ".py",
   "mimetype": "text/x-python",
   "name": "python",
   "nbconvert_exporter": "python",
   "pygments_lexer": "ipython3",
   "version": "3.7.5"
  }
 },
 "nbformat": 4,
 "nbformat_minor": 2
}
